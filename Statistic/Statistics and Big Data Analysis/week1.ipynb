{
 "cells": [
  {
   "cell_type": "code",
   "execution_count": 3,
   "metadata": {},
   "outputs": [
    {
     "name": "stdout",
     "output_type": "stream",
     "text": [
      "聚类中心： [[1353.2       ]\n",
      " [1061.71428571]\n",
      " [ 855.2       ]\n",
      " [1202.625     ]]\n",
      "数据点的簇标签： [0 0 0 0 0 3 0 0 0 0 0 0 0 0 0 0 0 0 0 0 0 0 0 0 3 3 0 3 0 3 3 1 1 1 3 2 1\n",
      " 1 3 1 1 2 2 2 2 2 2 2 2 2]\n"
     ]
    },
    {
     "name": "stderr",
     "output_type": "stream",
     "text": [
      "C:\\Users\\IDO\\AppData\\Roaming\\Python\\Python310\\site-packages\\sklearn\\cluster\\_kmeans.py:1416: FutureWarning: The default value of `n_init` will change from 10 to 'auto' in 1.4. Set the value of `n_init` explicitly to suppress the warning\n",
      "  super()._check_params_vs_input(X, default_n_init=10)\n",
      "C:\\Users\\IDO\\AppData\\Roaming\\Python\\Python310\\site-packages\\sklearn\\cluster\\_kmeans.py:1440: UserWarning: KMeans is known to have a memory leak on Windows with MKL, when there are less chunks than available threads. You can avoid it by setting the environment variable OMP_NUM_THREADS=1.\n",
      "  warnings.warn(\n"
     ]
    }
   ],
   "source": [
    "import numpy as np\n",
    "from sklearn.cluster import KMeans\n",
    "\n",
    "# 输入数据\n",
    "data = np.array([\n",
    "    1366, 1347, 1365, 1363, 1365, 1159, 1366, 1365, 1367, 1364,\n",
    "    1360, 1365, 1367, 1306, 1367, 1343, 1365, 1360, 1367, 1367,\n",
    "    1364, 1326, 1366, 1360, 1235, 1250, 1286, 1271, 1293, 1223,\n",
    "    1184, 1083, 1100, 1043, 1160, 859, 1113, 1085, 1139, 1027,\n",
    "    981, 700, 906, 834, 907, 907, 870, 874, 844, 851\n",
    "]).reshape(-1, 1)  # 将数据转换成列向量\n",
    "\n",
    "# 定义聚类数\n",
    "num_clusters = 4\n",
    "\n",
    "# 使用 KMeans 算法进行聚类\n",
    "kmeans = KMeans(n_clusters=num_clusters)\n",
    "kmeans.fit(data)\n",
    "\n",
    "# 输出聚类中心\n",
    "print(\"聚类中心：\", kmeans.cluster_centers_)\n",
    "\n",
    "# 输出每个数据点的所属簇\n",
    "print(\"数据点的簇标签：\", kmeans.labels_)\n"
   ]
  }
 ],
 "metadata": {
  "kernelspec": {
   "display_name": "base",
   "language": "python",
   "name": "python3"
  },
  "language_info": {
   "codemirror_mode": {
    "name": "ipython",
    "version": 3
   },
   "file_extension": ".py",
   "mimetype": "text/x-python",
   "name": "python",
   "nbconvert_exporter": "python",
   "pygments_lexer": "ipython3",
   "version": "3.10.13"
  },
  "orig_nbformat": 4
 },
 "nbformat": 4,
 "nbformat_minor": 2
}
