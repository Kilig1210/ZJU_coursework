{
 "cells": [
  {
   "cell_type": "code",
   "execution_count": 14,
   "metadata": {},
   "outputs": [
    {
     "name": "stdout",
     "output_type": "stream",
     "text": [
      "近似概率: 0.2513641649521424\n"
     ]
    }
   ],
   "source": [
    "import numpy as np\n",
    "import collections\n",
    "sample1 = 100000 #试验次数\n",
    "x= np.random.randint(1,7,size=(2,sample1)) #生成两次掷骰子的点数\n",
    "counter1 = collections.Counter(x[0]+x[1]==9) #两次点数总和为9\n",
    "counter2 = np.sum((x[0] == 6) & (x[0] + x[1] == 9)) #两次点数总和为9且第一次为6\n",
    "probability = counter2/counter1[True]\n",
    "print(\"近似概率:\", probability) #计算概率\n",
    "\n",
    "\n"
   ]
  },
  {
   "cell_type": "code",
   "execution_count": 15,
   "metadata": {},
   "outputs": [
    {
     "name": "stdout",
     "output_type": "stream",
     "text": [
      "近似概率: 0.24877695234643957\n"
     ]
    }
   ],
   "source": [
    "import random\n",
    "\n",
    "sample2 = 100000  # 总实验次数\n",
    "sum1= 0  # 符合点数总和为9且第一次为6条件的实验次数\n",
    "sum2= 0  # 符合点数总和为9条件的实验次数\n",
    "for _ in range(sample2):\n",
    "    # 模拟掷两次骰子\n",
    "    trail1 = random.randint(1, 6)\n",
    "    trial2 = random.randint(1, 6)\n",
    "    \n",
    "    # 点数总和为9且第一次为6\n",
    "    if trail1 == 6 and trail1 + trial2 == 9:\n",
    "        sum1 += 1\n",
    "        \n",
    "    # 点数总和为9\n",
    "    if trail1 + trial2 == 9:\n",
    "        sum2 += 1\n",
    "\n",
    "# 计算概率\n",
    "probability = sum1 / sum2\n",
    "\n",
    "print(\"近似概率:\", probability)"
   ]
  }
 ],
 "metadata": {
  "kernelspec": {
   "display_name": "base",
   "language": "python",
   "name": "python3"
  },
  "language_info": {
   "codemirror_mode": {
    "name": "ipython",
    "version": 3
   },
   "file_extension": ".py",
   "mimetype": "text/x-python",
   "name": "python",
   "nbconvert_exporter": "python",
   "pygments_lexer": "ipython3",
   "version": "3.10.13"
  }
 },
 "nbformat": 4,
 "nbformat_minor": 2
}
