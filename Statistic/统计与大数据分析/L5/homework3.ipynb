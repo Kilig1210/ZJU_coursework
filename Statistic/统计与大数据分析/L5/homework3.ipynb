{
 "cells": [
  {
   "cell_type": "markdown",
   "metadata": {},
   "source": [
    "记小明一直逛书店直到买到书去过的书店数量为$X=x_1,x_2,x_3,…，x_n$,$X \\sim \\text{Geo}(0.1)$，则$P(X=x_i) = (0.9)^{k-1} \\cdot 0.1$.\n",
    "\n",
    "期望的计算公式为$\\mathbb{E}[X] = \\frac{1}{p}$，其中$p$是成功的概率。在这里，成功的概率为0.1。因此，$X$的期望可以计算为：\n",
    "$$\\mathbb{E}[X] = \\frac{1}{0.1} = 10$$\n",
    "\n",
    "方差的计算公式为$\\text{Var}[X] = \\frac{1-p}{p^2}$。利用给定的成功概率$p=0.1$，$X$的方差可以计算为：\n",
    "$$\\text{Var}[X] = \\frac{1-0.1}{(0.1)^2} = 90$$\n",
    "\n",
    "\n",
    "记小明在每家书店停留的时间为$T=t_1,t_2,t_3,…，t_n$,即 $T \\sim \\text{Exp}(0.5)$，其概率密度函数（PDF）为：\n",
    "$f(t;0.5) = 0.5 e^{-0.5 t},t \\geq 0$\n",
    "\n",
    "期望（均值）的计算公式为$\\mathbb{E}[T] = \\frac{1}{\\lambda}$。在这里，参数$\\lambda$的值为0.5。因此，$T$的期望可以计算为：\n",
    "$$\\mathbb{E}[T] = \\frac{1}{0.5} = 2$$\n",
    "\n",
    "方差的计算公式为$\\text{Var}[T] = \\frac{1}{\\lambda^2}$。利用给定的参数$\\lambda = 0.5$，$T$的方差可以计算为：\n",
    "$$\\text{Var}[T] = \\frac{1}{(0.5)^2} = 4$$\n",
    "\n",
    "由于小明在每家书店停留的时间服从指数分布，他买书所花费的时间总和$Y$可以表示为：\n",
    "$$Y = \\sum_{i=1}^{X} t_i$$\n",
    "其中，$T_i$表示小明在第$i$家书店停留的时间。\n",
    "\n",
    "根据期望的线性性质，$Y$的期望可以计算为：\n",
    "$$\\mathbb{E}[Y] = \\mathbb{E}[X] \\cdot \\mathbb{E}[T] = 10 \\cdot 2 = 20$$\n",
    "\n",
    "根据题目给出的公式，$Y$的方差可以计算为：\n",
    "$$\\text{Var}[Y]=\\text{Var}[T] \\cdot \\mathbb{E}[X] + (\\mathbb{E}[T])^2 \\cdot \\text{Var}[X] = 4 \\cdot 10 + 4 \\cdot 90= 400 $$\n",
    "\n",
    "- 在该题计算中，使用的变量命名选择了更贴近实际意义的符号，和原题目公式存在差异，但使用的公式并不存在错误。原公式中的X对应题解中的时间T，原公式中的N对应题解中的书店数量X。\n"
   ]
  },
  {
   "cell_type": "code",
   "execution_count": 9,
   "metadata": {},
   "outputs": [
    {
     "name": "stdout",
     "output_type": "stream",
     "text": [
      "模拟结果：\n",
      "期望 E[Y] = 20.02\n",
      "方差 Var[Y] = 400.74\n"
     ]
    }
   ],
   "source": [
    "import numpy as np\n",
    "np.random.seed(0) #设置随机种子确保结果可复现\n",
    "num_simulations = 1000000 #设定模拟的次数\n",
    "X = np.random.geometric(0.1, size=num_simulations) #生成服从几何分布的随机数，表示小明买到书时去过的书店数量\n",
    "T = np.random.exponential(2, size=(num_simulations, X.max())) #生成服从指数分布的随机数，表示小明每家书店停留的时间\n",
    "\n",
    "# Y = [] #初始化一个空列表用于存放时间Y的值\n",
    "# #遍历X和T，计算买书所花费的时间总和Y\n",
    "# for i, x_value in enumerate(X):\n",
    "#     y = np.sum(T[i, :x_value])\n",
    "#     Y.append(y)\n",
    "# Y = np.array(Y) #将列表转化为数组\n",
    "\n",
    "#遍历X中的元素计算每次模拟买书所花费的时间总和Y（发现这样写更简洁一些）\n",
    "Y = np.array([np.sum(T[i, :x_value]) for i, x_value in enumerate(X)])\n",
    "\n",
    "\n",
    "#计算Y的期望和方差\n",
    "mean_Y = np.mean(Y)\n",
    "var_Y = np.var(Y)\n",
    "\n",
    "print(f\"模拟结果：\")\n",
    "print(f\"期望 E[Y] = {mean_Y:.2f}\")\n",
    "print(f\"方差 Var[Y] = {var_Y:.2f}\")"
   ]
  }
 ],
 "metadata": {
  "kernelspec": {
   "display_name": "base",
   "language": "python",
   "name": "python3"
  },
  "language_info": {
   "codemirror_mode": {
    "name": "ipython",
    "version": 3
   },
   "file_extension": ".py",
   "mimetype": "text/x-python",
   "name": "python",
   "nbconvert_exporter": "python",
   "pygments_lexer": "ipython3",
   "version": "3.10.9"
  }
 },
 "nbformat": 4,
 "nbformat_minor": 2
}
