{
 "cells": [
  {
   "cell_type": "markdown",
   "id": "01a33b45-750b-4893-8aa5-5f046a33f9a6",
   "metadata": {},
   "source": [
    "### 根据问题作出假设：\n",
    "$$\n",
    "\\begin{aligned}\n",
    "H_0: S_A < S_B\n",
    "\\end{aligned}\n",
    "$$\n",
    "### 对应的检验为：当 $\\left( \\frac{S_A}{S_B} \\right)^2 \\ge C$时否定假设 $H_0$，不然就承认假设$H_0$。\n",
    "### 由数理统计知识知\n",
    "$$\n",
    "\\left( \\frac{S_A}{S_B} \\right)^2 \\left( \\frac{\\sigma_B}{\\sigma_A} \\right)^2\n",
    "$$\n",
    "### 满足 $F_{m-1,n-1}$分布。由于两次测量时同一款样品，所以\n",
    "$$\n",
    "\\sigma_A = \\sigma_B\n",
    "$$\n",
    "### 所以统计量\n",
    "$$\n",
    "\\left( \\frac{S_A}{S_B} \\right)^2\n",
    "$$\n",
    "### 满足$F_{4,4}$分布。\n",
    "### 我们取 $\\alpha = 0.05$，经过如下计算"
   ]
  },
  {
   "cell_type": "code",
   "execution_count": 9,
   "id": "b39e234a-1d6a-43a6-bc90-95ae855a7c30",
   "metadata": {},
   "outputs": [
    {
     "name": "stdout",
     "output_type": "stream",
     "text": [
      "0.39065324038213134\n",
      "6.388232908695868\n"
     ]
    }
   ],
   "source": [
    "import numpy as np\n",
    "import matplotlib.pyplot as plt\n",
    "from scipy.stats import f\n",
    "\n",
    "b= f.ppf(0.95, 4, 4) #F分布在累积概率0.95处的上分位点\n",
    "\n",
    "A=[118.5, 120.5, 120.4, 121.8, 121.1]\n",
    "B=[117.2, 119.3, 122.2, 118.3, 120.7]\n",
    "\n",
    "print(np.var(A,ddof=1)/np.var(B,ddof=1))\n",
    "print(b)"
   ]
  },
  {
   "cell_type": "markdown",
   "id": "d9f4c20e-c56e-4770-96a7-bdfabcb5688d",
   "metadata": {},
   "source": [
    "### 我们得到$\\alpha = 0.05$时的置信区间为\n",
    "$$\n",
    "\\left( \\frac{S_A}{S_B} \\right)^2 < 6.39\n",
    "$$\n",
    "### 而 $\\left( \\frac{S_A}{S_B} \\right)^2 = 0.39$满足上述条件，故假设$H_0$不能被推翻，即A的声明为真。\n",
    "### 当\n",
    "$$\n",
    "\\left( \\frac{S_A}{S_B} \\right)^2 > 6.39\n",
    "$$\n",
    "### 时，该假设为假。"
   ]
  },
  {
   "cell_type": "code",
   "execution_count": null,
   "id": "2180a7e2-daa6-4569-ac78-d005bd4cb925",
   "metadata": {},
   "outputs": [],
   "source": []
  }
 ],
 "metadata": {
  "kernelspec": {
   "display_name": "Python 3 (ipykernel)",
   "language": "python",
   "name": "python3"
  },
  "language_info": {
   "codemirror_mode": {
    "name": "ipython",
    "version": 3
   },
   "file_extension": ".py",
   "mimetype": "text/x-python",
   "name": "python",
   "nbconvert_exporter": "python",
   "pygments_lexer": "ipython3",
   "version": "3.8.1"
  }
 },
 "nbformat": 4,
 "nbformat_minor": 5
}
